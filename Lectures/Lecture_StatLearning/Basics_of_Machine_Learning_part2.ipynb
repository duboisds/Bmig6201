{
 "cells": [
  {
   "cell_type": "markdown",
   "metadata": {
    "slideshow": {
     "slide_type": "-"
    }
   },
   "source": [
    "# Statistical Learning\n",
    "## Accuracy and Prediction\n",
    "\n",
    "## BMIG 6201\n",
    "## Horacio Gomez-Acevedo\n",
    "## UAMS"
   ]
  },
  {
   "cell_type": "markdown",
   "metadata": {
    "citation-manager": {
     "citations": {
      "2cs47": [
       {
        "id": "11398979/3GHZ4ZRB",
        "source": "zotero"
       }
      ]
     }
    },
    "tags": []
   },
   "source": [
    "Some of the figures and material in this presentation are taken from <cite id=\"2cs47\">(Gareth, James et al., 2015)</cite> with permission from the authors: G. James, D. Witten,  T. Hastie and R. Tibshirani"
   ]
  },
  {
   "cell_type": "markdown",
   "metadata": {},
   "source": [
    "Let's suppose we observe a quatitative response $Y$ and $p$ different predictors $X_1,\\ldots, X_p$, which can be written in the form\n",
    "\\begin{equation*}\n",
    "Y= f(X) + \\varepsilon\n",
    "\\end{equation*}\n",
    "We assume that the function $f$ is **fixed but unknown**, and $\\varepsilon$ is a **random error term**, which is independent of $X$ and has mean zero (i.e. its expected value $E (\\varepsilon) =0$).\n",
    "\n",
    "**Statistical Learning** refers to a set of approaches for estimating $f$, for the purpose of either predict future responses or make inferences about inner relationships within the model predictors. \n"
   ]
  },
  {
   "cell_type": "markdown",
   "metadata": {},
   "source": [
    "### Prediction\n",
    "\n",
    "Let's suppose that a set of input (predictors) is readily available, but for some financial or practical constrains we cannot estimate the output $Y$. We can predict $Y$ using\n",
    "\\begin{equation*}\n",
    "\\hat{Y} = \\hat{f}(X),\n",
    "\\end{equation*}\n",
    "where $\\hat{f}$ represents an estimate for $f$ and $\\hat{Y}$ respresent the resulting prediction for $Y$.\n",
    "\n",
    "> Note that this is a very general setting, for instance in (multi)linear regression, we cannot make predictions outside certain regions.\n",
    "\n",
    "#### How accurate is $\\hat{Y}$?\n",
    "\n",
    "The accuracy of $\\hat{Y}$ as a prediction for $Y$ depends on two quatitites\n",
    "+ reducible error\n",
    "+ irreducible error\n",
    "\n",
    "The reducible error reflects the leverage that modeler has to pick a *better* statistical technique for estimation. Even in the case when we have a perfect estimate of $f$ (i.e.  $\\hat{Y}=f(X)$), we will have \n",
    "\\begin{equation*}\n",
    "|\\hat{Y}-Y| = \\varepsilon\n",
    "\\end{equation*}\n",
    "since $\\varepsilon$ does not depend on $X$. Thus, we cannot reduce the error introduced by $\\varepsilon$ no matter how well our estimates are.\n",
    "\n",
    "Recall that if you have a random variable $Z$ (with $E(|Z|)<\\infty$ and $\\mathrm{Var}(Z)<\\infty$), the following relationships hold \n",
    "\n",
    "$$E(Z^2)= \\mathrm{Var}(Z) + (E(Z))^2$$\n",
    "and \n",
    "$$\\mathrm{Var}(aZ+b)= a^2\\mathrm{Var}(Z)$$ \n",
    "\n",
    "Now if we consider for a moment that both $\\hat{f}$ and $X$ are fixed ($f$ was already fix but unknown), we have that the average (expected value) of the squared difference is \n",
    "\n",
    "\\begin{equation}\n",
    "\\begin{split}\n",
    "E(Y-\\hat{Y})^2&= E(f(X)+ \\varepsilon -\\hat{f}(X))^2= \\mathrm{Var}(f(X)-\\hat{f}(X)+ \\varepsilon ) + \\left(E(f(X)-\\hat{f}(X)+\\varepsilon) \\right)^2 \\\\\n",
    "&= \\mathrm{Var}(\\varepsilon) + \\mathrm{Var}(f(X)-\\hat{f}(X))+ \\left( E(f(X)-\\hat{f}(X)) + E(\\varepsilon) \\right)^2\\\\\n",
    "&= \\color{red}{\\mathrm{Var}(\\varepsilon)}+\\color{blue}{E\\left( f(X)-\\hat{f}(X)\\right)^2} \n",
    "\\end{split}\n",
    "\\end{equation}\n",
    "The reducible error is colored in blue and the irreducible error is in red.\n",
    "\n",
    "Thus, the accuracy will be (lower) bounded by $\\mathrm{Var}(\\varepsilon)$, but this bound is almost never known in practice. \n"
   ]
  },
  {
   "cell_type": "markdown",
   "metadata": {},
   "source": [
    "### Inference \n",
    "\n",
    "In this case we are mainly interested in determined the way that $Y$ is affected by changing $X_1,\\ldots,X_p$. This means trying to understand the relationship between the output and the predictors. For instance we try to answer questions like\n",
    "\n",
    "+ Which predictors are more important?\n",
    "+ What relationship exist between the response and each of the predictors?\n",
    "+ Is the relationship between $Y$ and predictor $X_i$ linear, or should it be nonlinear?\n"
   ]
  },
  {
   "cell_type": "markdown",
   "metadata": {},
   "source": [
    "## Estimation of $f$\n",
    "\n",
    "The observations at hand are called **training data**, because we will use those observations to find an estimate $\\hat{f}$. Let $x_{ij}$ represents the value of the predictor $j$ for the $i$th observation ($i\\in \\{1,\\ldots,n\\}, j\\in \\{1,\\ldots,p\\}$, and the response variable $y_i$ for the $i$th observation. Our dataset looks something like this\n",
    "\n",
    "\\begin{equation}\n",
    "\\left\\{\n",
    "\\left(\n",
    "\\left( \n",
    "\\begin{matrix}\n",
    "x_{11}\\\\\n",
    "x_{12}\\\\\n",
    "\\vdots \\\\\n",
    "x_{1p}\n",
    "\\end{matrix}\\right),\n",
    "y_1 \\right), \n",
    "\\left(\n",
    "\\left( \n",
    "\\begin{matrix}\n",
    "x_{21}\\\\\n",
    "x_{22}\\\\\n",
    "\\vdots \\\\\n",
    "x_{2p}\n",
    "\\end{matrix}\\right),\n",
    "y_2 \\right),\n",
    "\\ldots,\n",
    "\\left(\n",
    "\\left( \n",
    "\\begin{matrix}\n",
    "x_{n1}\\\\\n",
    "x_{n2}\\\\\n",
    "\\vdots \\\\\n",
    "x_{np}\n",
    "\\end{matrix}\\right),\n",
    "y_n\n",
    "\\right)\n",
    "\\right\\}\n",
    "\\end{equation}\n",
    "\n",
    " "
   ]
  },
  {
   "cell_type": "markdown",
   "metadata": {},
   "source": [
    "#### Example. \n",
    "\n",
    "We will consider the dataset *income2.csv* that consists of $n=30$ datapoints about seniority, income and level of education. We will apply a statistical learning method to find a function $\\hat{f}$ that approximates that approximates $Y$ (i.e., $Y \\sim f(\\hat{X})$ for any observation $(X,Y)$).\n",
    "\n",
    "##### Parametric Method\n",
    "\n",
    "Parametric methods are those methods in which we need to find certain parameters for the estimation of $f$.\n",
    "\n",
    "+ We need to select the functional form of $f$. \n",
    "\n",
    "Traditionally, we apply the condition that $f$ is linear\n",
    "\n",
    "\\begin{equation}\n",
    "f(X) = \\beta_0+ \\beta_1 X_1 + \\cdots+ \\beta_p X_p\n",
    "\\end{equation}\n",
    "\n",
    "+ We need to use a procedure that uses the training data to **fit** or **train** the model\n",
    "\n",
    "In the previous setup, this would mean to find values for the parameters $\\beta_0, \\beta_1,\\ldots,\\beta_p$ such that\n",
    "\\begin{equation*}\n",
    "Y \\sim \\beta_0+ \\beta_1 X_1 + \\cdots+ \\beta_p X_p\n",
    "\\end{equation*}\n",
    "\n",
    "One procedure that can be used is **(ordinary) least squares**."
   ]
  },
  {
   "cell_type": "markdown",
   "metadata": {},
   "source": [
    "Going back to our example, if $X_1$ represents *seniority* and $X_2$ *years of education* and $Y$ the *annual income*, let's assume for a moment that we know the exact function $f$ (the graph (surface) of $f$ depicted in blue, and the red dots represent each of the observations from our dataset)\n",
    "\n",
    "<img src='../../Figures/2.3.png'>"
   ]
  },
  {
   "cell_type": "markdown",
   "metadata": {},
   "source": [
    "If we apply (ordinary) least squares, we have to fit a linear model of the form\n",
    "\\begin{equation*}\n",
    "\\mathrm{income} \\approx \\beta_0 + \\beta_1 \\times\\mathrm{education} + \\beta_2 \\times \\mathrm{seniority}  \n",
    "\\end{equation*}\n",
    "\n",
    "And the linear model fit look like\n",
    "\n",
    "<img src='../../Figures/2.4.png'>\n",
    "\n",
    "\n",
    "Note that $\\hat{f}$ does not match the unknown function $f$, and we may think is other models that *look more like* $f$ by adding certain complexity (e.g., adding quadratic terms). More complex models tend to **overfit** the data (i.e., they follow too close the errors and performed poorly when predicting unseen data).\n",
    "\n"
   ]
  },
  {
   "cell_type": "markdown",
   "metadata": {},
   "source": [
    "#### Non-parametric methods\n",
    "\n",
    "These methods do not make the assumption about the form of the function $f$. Instead they look for an estimate of $f$ that gets as close to the points as possible without given (hyper)surfaces that are too rough or wiggly. \n",
    "\n",
    "One of this methodologies for instance is the *thin plate splines* that tries to adjust a surface so that *bending energy* of the points is optimized. \n",
    "\n",
    "<img src='../../Figures/2.6.png'>\n",
    "\n",
    "Two methodologies that are worth mentioning for non-parametric test are \n",
    "\n",
    "+ *loess* (local regression) where a parameter determines the size of the window in which the local regression will be applied.\n",
    "+ *restricted cubic splines* in which the knots of the spline are driven by the data itself. \n"
   ]
  },
  {
   "cell_type": "markdown",
   "metadata": {},
   "source": [
    "### Model interpretability or prediction accuracy\n",
    "\n",
    "Whereas models with larger number of parameters tend to improve accuracy it comes at the expense of model interpretability. \n"
   ]
  },
  {
   "cell_type": "markdown",
   "metadata": {},
   "source": [
    "## Model Accuracy\n",
    "\n",
    "First, there is not a single statistical method that can be accurate under all the circumstances. \n",
    "\n",
    "One way to check accuracy is by measuring the **quality of fit**, which means to determine how well the predictions match the observed data. \n",
    "\n",
    "In (multi)linear regression, one commonly-used measure is the **MEAN SQUARED ERROR (MSE)**\n",
    "\n",
    "\\begin{equation}\n",
    "\\mathrm{MSE}= \\frac{1}{n}\\sum_{i=1}^n (y_i -\\hat{f}(x_i))^2 = \\frac{1}{n} \\sum_{i=1}^n e_i^2,\n",
    "\\label{eq:mse}\n",
    "\\end{equation}\n",
    "where $e_i$ are called the residuals.\n",
    "\n",
    "> Note that MSE is sometimes divided by $n-2$ instead of $n$\n",
    "\n",
    "For instance, in the case of the linear regression with one predictor variable $Y=\\beta_0+ \\beta_1 X + \\varepsilon$, where $\\mathrm{Var}(\\varepsilon)=\\sigma^2$, we have that $\\frac{1}{n-2} \\sum_{i=1}^n e_i^2$ is an unbiassed estimator of $\\sigma^2$. \n",
    "\n",
    "### Training and test MSE\n",
    "\n",
    "We will refer to the MSE obtained from the observations as the **training MSE**. Thus, if we have our *training observations* $\\{ (x_1,y_1),\\ldots,(x_n,y_n) \\}$, we obtain the estimate $\\hat{f}$ by using say multlinear regression. Then, the training MSE is suppose to be small for $\\hat{f}$, but can still use another more sophisticated model and get smaller MSE (say by restricted cubic splines).\n",
    "\n",
    "However, if we would prefer to know *how well the model perfoms for a set of previously unseen observations* we need to quantify the **test MSE**. Let's suppose that we have *new* observations $\\{ (\\tilde{x_1},\\tilde{y_1}),\\ldots,(\\tilde{x_m},\\tilde{y_m})\\}$, then we would like to select the method that minimizes equation \\ref{eq:mse} when applied for our new set of observations. "
   ]
  },
  {
   "cell_type": "markdown",
   "metadata": {},
   "source": [
    "If we consider a plot comparing the MSE with model flexibility (technically called *degrees of freedom*), we observe two fundamental properties\n",
    "\n",
    "+ test MSE has a U-shape \n",
    "+ training MSE is monotonically decreases as the model complexity increases. \n",
    "\n",
    "The simulated data from $f$ and three estimates are given (red linear regression and blue and green smoothing splines). The training MSE is shown in gray, and test MSE in red. The squares represent the values for each of those estimates. \n",
    "<img src=\"../../Figures/2.9.png\">\n",
    "\n",
    "In practice, an estimation of test MSE is much more difficult, but there are approaches that can be used to determine (namely, **cross-validation**). \n"
   ]
  },
  {
   "cell_type": "markdown",
   "metadata": {},
   "source": [
    "## Bias-Variance trade-off\n",
    "\n",
    "Let's suppose we have a given value $x_0$, then the expected value of the test MSE can be decomposed into:\n",
    "\n",
    "+ variance of $\\hat{f}(x_0)$,\n",
    "+ squared bias of $\\hat{f}(x_0)$,\n",
    "+ variance of the error terms $\\varepsilon$.\n",
    "\n",
    "Recall that the **bias** of the estimator $\\hat{\\Theta}$ of the random variable $\\Theta$ is defined as\n",
    "\n",
    "\\begin{equation}\n",
    "\\mathrm{Bias}(\\hat{\\Theta})= E(\\hat{\\Theta}) - \\Theta \n",
    "\\end{equation}\n",
    "\n",
    "The estimator $\\hat{\\Theta}$ is called unbiassed when $\\mathrm{Bias}(\\hat{\\Theta})=0$. \n",
    "\n",
    "In mathematical terms, test MSE is defined as an average (expected value) of square differences between the new values and their estimates, that is\n",
    "$E[(y_0-\\hat{f}(x_0))^2]$. \n",
    "\n",
    "Note that $f$ is *fixed* and theoretically known, so even when we have a new dataset $(x_0,y_0)$, their values are known without any error, thus $E(f(x_0))=f(x_0)$ and $\\mathrm{Var}(f(x_0))=0$.  \n",
    "\n",
    "\\begin{equation}\n",
    "\\label{eq:bias-variance}\n",
    "\\begin{split}\n",
    "E\\left[ (y_0- \\hat{f}(x_0))^2 \\right] &= E[ (f(x_0)+ \\varepsilon - \\hat{f}(x_0))^2 ]\\\\\n",
    "&= \\mathrm{Var}(f(x_0) + \\varepsilon - \\hat{f}(x_0)) + \\left[ E(f(x_0)+\\varepsilon -\\hat{f}(x_0))\\right]^2 \\\\\n",
    "&= \\mathrm{Var}(f(x_0))+ \\mathrm{Var}(\\hat{f}(x_0)) + \\mathrm{Var}(\\varepsilon) + \n",
    "\\left[ E(f(x_0)-\\hat{f}(x_0))+ E(\\varepsilon)\\right]^2\\\\\n",
    "&= \\mathrm{Var}(\\hat{f}(x_0)) +\\mathrm{Var}(\\varepsilon) + \\left[ E(f(x_0)-\\hat{f}(x_0))\\right]^2\\\\\n",
    "&= \\mathrm{Var}(\\hat{f}(x_0)) +\\mathrm{Var}(\\varepsilon) + \\left[ f(x_0) - E(\\hat{f}(x_0))\\right]^2\\\\\n",
    "&= \\mathrm{Var}(\\hat{f}(x_0)) +\\mathrm{Var}(\\varepsilon) + \\left[\\mathrm{Bias}(\\hat{f}(x_0)) \\right]^2\n",
    "\\end{split}\n",
    "\\end{equation}\n",
    "\n",
    "What does it mean?\n",
    "\n",
    "The *variance* refers to the amount by which $\\hat{f}$ would change if we estimated it using a different training set. Intuitively, if our model is simple (say linear regression) changing our training dataset won't change the line that much, but if we have a model that follows closely the training set, replacing a point will increase the variance significantly.\n",
    "\n",
    "On the other hand, *bias* refers to the error that is introduced by approximating a real-life problem (say highly non-linear) with a simpler model say a linear one. \n",
    "\n"
   ]
  },
  {
   "cell_type": "code",
   "execution_count": 3,
   "metadata": {},
   "outputs": [
    {
     "name": "stdout",
     "output_type": "stream",
     "text": [
      "Automatically created module for IPython interactive environment\n"
     ]
    },
    {
     "data": {
      "image/png": "[encoded data removed]",
      "text/plain": [
       "<Figure size 432x288 with 1 Axes>"
      ]
     },
     "metadata": {
      "needs_background": "light"
     },
     "output_type": "display_data"
    }
   ],
   "source": [
    "print(__doc__)\n",
    "\n",
    "# Author: Mathieu Blondel\n",
    "#         Jake Vanderplas\n",
    "# License: BSD 3 clause\n",
    "import numpy as np\n",
    "import matplotlib.pyplot as plt\n",
    "\n",
    "from sklearn.linear_model import Ridge\n",
    "from sklearn.preprocessing import PolynomialFeatures\n",
    "from sklearn.pipeline import make_pipeline\n",
    "\n",
    "\n",
    "def f(x):\n",
    "    \"\"\" function to approximate by polynomial interpolation\"\"\"\n",
    "    return x * np.sin(x)\n",
    "\n",
    "\n",
    "# generate points used to plot\n",
    "x_plot = np.linspace(0, 10, 100)\n",
    "\n",
    "# generate points and keep a subset of them\n",
    "x = np.linspace(0, 10, 100)\n",
    "rng = np.random.RandomState(0)\n",
    "rng.shuffle(x)\n",
    "x = np.sort(x[:20])\n",
    "y = f(x)\n",
    "\n",
    "# create matrix versions of these arrays\n",
    "X = x[:, np.newaxis]\n",
    "X_plot = x_plot[:, np.newaxis]\n",
    "\n",
    "colors = ['red','teal', 'yellowgreen', 'gold']\n",
    "lw = 2\n",
    "plt.plot(x_plot, f(x_plot), color='cornflowerblue', linewidth=lw,\n",
    "         label=\"ground truth\")\n",
    "plt.scatter(x, y, color='navy', s=30, marker='o', label=\"training points\")\n",
    "\n",
    "for count, degree in enumerate([1,3, 4, 5]):\n",
    "    model = make_pipeline(PolynomialFeatures(degree), Ridge())\n",
    "    model.fit(X, y)\n",
    "    y_plot = model.predict(X_plot)\n",
    "    plt.plot(x_plot, y_plot, color=colors[count], linewidth=lw,\n",
    "             label=\"degree %d\" % degree)\n",
    "\n",
    "plt.legend(loc='lower left')\n",
    "\n",
    "plt.show()"
   ]
  },
  {
   "cell_type": "markdown",
   "metadata": {},
   "source": [
    "## Classification \n",
    "\n",
    "When we have *categorical responses* (e.g., \"high\", \"low\",\"medium\") the our prediction problem become a **classification problem**. Let's suppose that we are looking for a estimate $f$ basis of the *training* observations $\\{ (x_1,y_1), \\ldots, (x_n,y_n)\\}$ where $y_i$ is a member of one given class $C_k$ ($k\\in \\{1,\\ldots,r\\}$. \n",
    "\n",
    "One common approach to quantify the quality of the estimate $\\hat{f}$ is the **training error rate**, that is the proportion of classification errors that we incurred during if we apply our estimate $\\hat{f}$.\n",
    "\n",
    "\\begin{equation}\n",
    "\\frac{1}{n} \\sum_{i=1}^n I_{y_i \\ne \\hat{y}_i}\n",
    "\\end{equation}\n",
    "\n",
    "where $\\hat{y}_i$ is our prediction for the observation $i$ by the estimate $\\hat{f}$, and $I_{y_i \\ne \\hat{y}_i}$ is the *indicator function* which is equal to 1 if the condition is true (i.e. $y_i \\ne \\hat{y}_i$) and zero elsewhere. Thus the expression on the right is measuring the fraction of incorrect classifications.\n",
    "\n",
    "As we did before, we can define the **test error rate** associated with a set of previously unseen observations $(x_0,y_0)$ as\n",
    "\n",
    "\\begin{equation}\n",
    "\\mathrm{Average}(I_{y_0 \\ne \\hat{y}_0}) \n",
    "\\label{eq:classtesterror}\n",
    "\\end{equation}\n",
    "\n",
    "\n",
    "### Bayes classifier\n",
    "\n",
    "The test error rate given in (\\ref{eq:classtesterror}) can be minimized (on average) by a simple classifier that assigns *each observation the most likely class, given its predictor values*). \n",
    "So, for the test observation with predictor vector $x_0$ will belong to the class $j$ for which\n",
    "\n",
    "\\begin{equation*}\n",
    "\\mathrm{Pr}(Y=j | X=x_0)\n",
    "\\end{equation*}\n",
    "\n",
    "is largest. This classifier is refered to as **Bayes classifier**.\n",
    "\n",
    "The Bayes classifier produces the lowest possible test error rate, calles the **Bayes error rate**. In general the overall Bayes error rate is given by\n",
    "\n",
    "\\begin{equation*}\n",
    "1 - E \\left( \\max_{j} \\mathrm{Pr}(Y=j|X) \\right)\n",
    "\\end{equation*}\n",
    "\n",
    "### K-Nearest Neighbors\n",
    "\n",
    "One of the problems with the Bayes classifier is that we normally don't know the conditional distribution $Y$ given $X$. Thus, it becomes a *theoretical gold standard* which is unattainable.\n",
    "\n",
    "$K$-nearest neighbors (KNN) in which given a positive integer $K$ and a test observation $x_0$, the *KNN* classifier first identifies the $K$ points in the trianing data that are the closests to $x_0$, represented by $\\cal{N}_0$. It then estimates the conditional probability for class $j$ as the fraction of points in $\\cal{N}_0$ whose response values equal $j$:\n",
    "\n",
    "\\begin{equation*}\n",
    "\\mathrm{Pr}(Y=j | X=x_0) = \\frac{1}{K} \\sum_{i \\in {\\cal N}_0} I_{y_i=j}\n",
    "\\end{equation*}\n",
    "\n",
    "Finally, KNN aplies Bayes rule and classifies the test observation to $x_0$ to the class with the largest probability.\n",
    "\n"
   ]
  },
  {
   "cell_type": "markdown",
   "metadata": {},
   "source": [
    "#### Example\n",
    "\n",
    "Let's suppose we have two classes $\\circ$ of two colors and $\\times$ represents the center of an unseen new point $x_0$. And let's pick $K=3$. So the closests three points are inside or in the boundary of the green circle. This circle has 2 blue and 1 orange point. Thus, resulting in estimated probabilities of $2/3$ for the blue and $1/3$ for the orange class. \n",
    "\n",
    "<img src='../../Figures/knn_2d.png'> \n",
    "\n",
    "Then, the $\\times$ point belongs to the blue class. When the same procedure is applied to a sufficient number of points in the plane, we get something like this\n",
    "\n",
    "<img src='../../Figures/knn_2dbis.png'>\n",
    "\n",
    "\n"
   ]
  },
  {
   "cell_type": "markdown",
   "metadata": {},
   "source": [
    "### Effect of $K$\n",
    "\n",
    "The choice of $K$ has a significant impact on the KNN classifier. \n",
    "\n",
    "<img src='../../Figures/knn_k_comparison.png'>\n",
    "\n",
    "From this picture, we can see that when $K=1$, the *decision boundary* is overly flexible (i.e. almost classifies the dataset \"perfectly\"). This case we expect that the classifier has low bias but very high variance. On the other hand, when we have a high $K$ (in the picture $K=100$) we get almost linear classification, where low variance and high bias is expected.\n",
    "\n",
    "Just as we did with the other classifiers, we consider the variable $1/K$ as *flexibility*\n",
    "\n",
    "\n",
    "<img src='../../Figures/knn_flexibility.png'>\n",
    "\n",
    "Thus, we observe the same $U$ shape for the *test error rate* and decreasing *training error rate* as the model tends to overfit data. The dotted line represents the Bayes error rate.\n",
    "\n",
    "For the case of $K=10$ we have\n",
    "\n",
    "<img src='../../Figures/knn_k_optimal.png'>\n",
    "\n",
    "\n"
   ]
  },
  {
   "cell_type": "code",
   "execution_count": 4,
   "metadata": {},
   "outputs": [
    {
     "data": {
      "image/png": "[encoded data removed]",
      "text/plain": [
       "<Figure size 432x288 with 1 Axes>"
      ]
     },
     "metadata": {
      "needs_background": "light"
     },
     "output_type": "display_data"
    },
    {
     "data": {
      "image/png": "[encoded data removed]",
      "text/plain": [
       "<Figure size 432x288 with 1 Axes>"
      ]
     },
     "metadata": {
      "needs_background": "light"
     },
     "output_type": "display_data"
    }
   ],
   "source": [
    "\n",
    "import numpy as np\n",
    "import matplotlib.pyplot as plt\n",
    "from matplotlib.colors import ListedColormap\n",
    "from sklearn import neighbors, datasets\n",
    "\n",
    "n_neighbors = 15\n",
    "\n",
    "# import some data to play with\n",
    "iris = datasets.load_iris()\n",
    "\n",
    "# we only take the first two features. We could avoid this ugly\n",
    "# slicing by using a two-dim dataset\n",
    "X = iris.data[:, :2]\n",
    "\n",
    "y = iris.target\n",
    "\n",
    "h = .02  # step size in the mesh\n",
    "\n",
    "# Create color maps\n",
    "cmap_light = ListedColormap(['orange', 'cyan', 'cornflowerblue'])\n",
    "cmap_bold = ListedColormap(['darkorange', 'c', 'darkblue'])\n",
    "\n",
    "for weights in ['uniform', 'distance']:\n",
    "    # we create an instance of Neighbours Classifier and fit the data.\n",
    "    clf = neighbors.KNeighborsClassifier(n_neighbors, weights=weights)\n",
    "    clf.fit(X, y)\n",
    "\n",
    "    # Plot the decision boundary. For that, we will assign a color to each\n",
    "    # point in the mesh [x_min, x_max]x[y_min, y_max].\n",
    "    x_min, x_max = X[:, 0].min() - 1, X[:, 0].max() + 1\n",
    "    y_min, y_max = X[:, 1].min() - 1, X[:, 1].max() + 1\n",
    "    xx, yy = np.meshgrid(np.arange(x_min, x_max, h),\n",
    "                         np.arange(y_min, y_max, h))\n",
    "    Z = clf.predict(np.c_[xx.ravel(), yy.ravel()])\n",
    "\n",
    "    # Put the result into a color plot\n",
    "    Z = Z.reshape(xx.shape)\n",
    "    plt.figure()\n",
    "    plt.pcolormesh(xx, yy, Z, cmap=cmap_light)\n",
    "\n",
    "    # Plot also the training points\n",
    "    plt.scatter(X[:, 0], X[:, 1], c=y, cmap=cmap_bold,\n",
    "                edgecolor='k', s=20)\n",
    "    plt.xlim(xx.min(), xx.max())\n",
    "    plt.ylim(yy.min(), yy.max())\n",
    "    plt.title(\"3-Class classification (k = %i, weights = '%s')\"\n",
    "              % (n_neighbors, weights))\n",
    "\n",
    "plt.show()"
   ]
  },
  {
   "cell_type": "markdown",
   "metadata": {},
   "source": [
    "## Reference\n",
    "\n",
    "<!-- BIBLIOGRAPHY START -->\n",
    "<div class=\"csl-bib-body\">\n",
    "  <div class=\"csl-entry\">Gareth, James, Daniela, Witten, Trevor, Hastie, &#38; Robert, Tibshirani. (2015). <i>An Introduction to Statistical learning</i> (1st edition). Springer.</div>\n",
    "\n",
    "</div>\n",
    "<!-- BIBLIOGRAPHY END -->"
   ]
  }
 ],
 "metadata": {
  "celltoolbar": "Slideshow",
  "citation-manager": {
   "items": {
    "zotero": {
     "11398979/3GHZ4ZRB": {
      "ISBN": "978-1-4614-7137-0",
      "author": [
       {
        "family": "Gareth, James",
        "given": ""
       },
       {
        "family": "Daniela, Witten",
        "given": ""
       },
       {
        "family": "Trevor, Hastie",
        "given": ""
       },
       {
        "family": "Robert, Tibshirani",
        "given": ""
       }
      ],
      "collection-title": "Springer Texts in Statistics",
      "edition": "1st edition",
      "id": "11398979/3GHZ4ZRB",
      "issued": {
       "date-parts": [
        [
         2015
        ]
       ]
      },
      "publisher": "Springer",
      "title": "An Introduction to Statistical learning",
      "type": "book"
     }
    }
   }
  },
  "kernelspec": {
   "display_name": "Python 3 (ipykernel)",
   "language": "python",
   "name": "python3"
  },
  "language_info": {
   "codemirror_mode": {
    "name": "ipython",
    "version": 3
   },
   "file_extension": ".py",
   "mimetype": "text/x-python",
   "name": "python",
   "nbconvert_exporter": "python",
   "pygments_lexer": "ipython3",
   "version": "3.8.8"
  },
  "latex_envs": {
   "LaTeX_envs_menu_present": true,
   "autoclose": false,
   "autocomplete": true,
   "bibliofile": "biblio.bib",
   "cite_by": "apalike",
   "current_citInitial": 1,
   "eqLabelWithNumbers": true,
   "eqNumInitial": 1,
   "hotkeys": {
    "equation": "Ctrl-E",
    "itemize": "Ctrl-I"
   },
   "labels_anchors": false,
   "latex_user_defs": false,
   "report_style_numbering": false,
   "user_envs_cfg": false
  }
 },
 "nbformat": 4,
 "nbformat_minor": 4
}
